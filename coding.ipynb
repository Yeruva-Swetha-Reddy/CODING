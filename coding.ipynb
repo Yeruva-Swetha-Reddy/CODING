{
  "nbformat": 4,
  "nbformat_minor": 0,
  "metadata": {
    "colab": {
      "provenance": [],
      "authorship_tag": "ABX9TyOknIMCg45XU7SIzCL9L6o7"
    },
    "kernelspec": {
      "name": "python3",
      "display_name": "Python 3"
    },
    "language_info": {
      "name": "python"
    }
  },
  "cells": [
    {
      "cell_type": "code",
      "execution_count": 1,
      "metadata": {
        "colab": {
          "base_uri": "https://localhost:8080/"
        },
        "id": "aGK9WxhciKui",
        "outputId": "5ba5cb7a-e503-4897-8011-745bf6014f50"
      },
      "outputs": [
        {
          "output_type": "stream",
          "name": "stdout",
          "text": [
            "[4, 15, 7]\n"
          ]
        }
      ],
      "source": [
        "s=\"Dog\"\n",
        "l=[]\n",
        "s1=s.upper()\n",
        "for i in s1:\n",
        "  res=ord(i)-64\n",
        "  l.append(res)\n",
        "print(l)"
      ]
    }
  ]
}