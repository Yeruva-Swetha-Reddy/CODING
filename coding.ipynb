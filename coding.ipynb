{
  "nbformat": 4,
  "nbformat_minor": 0,
  "metadata": {
    "colab": {
      "provenance": [],
      "authorship_tag": "ABX9TyNtel1w2F6W54j/Dmx0oVv3"
    },
    "kernelspec": {
      "name": "python3",
      "display_name": "Python 3"
    },
    "language_info": {
      "name": "python"
    }
  },
  "cells": [
    {
      "cell_type": "code",
      "execution_count": 1,
      "metadata": {
        "colab": {
          "base_uri": "https://localhost:8080/"
        },
        "id": "8lxNnbVVhWup",
        "outputId": "0632fd64-765b-484c-e36b-54e3e511a418"
      },
      "outputs": [
        {
          "output_type": "stream",
          "name": "stdout",
          "text": [
            "true\n"
          ]
        }
      ],
      "source": [
        "nums=[3,9,6,12,15]\n",
        "p=(min(nums))\n",
        "n=[]\n",
        "for i in nums:\n",
        "    if i%p==0:\n",
        "        n.append(i)\n",
        "if nums==n:\n",
        "    print(\"true\")\n",
        "else:\n",
        "    print(\"false\")"
      ]
    }
  ]
}