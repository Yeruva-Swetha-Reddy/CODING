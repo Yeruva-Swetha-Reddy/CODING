{
  "nbformat": 4,
  "nbformat_minor": 0,
  "metadata": {
    "colab": {
      "provenance": [],
      "authorship_tag": "ABX9TyOgwc8BHdYqDpmHtuuFT1Dn"
    },
    "kernelspec": {
      "name": "python3",
      "display_name": "Python 3"
    },
    "language_info": {
      "name": "python"
    }
  },
  "cells": [
    {
      "cell_type": "code",
      "execution_count": 2,
      "metadata": {
        "colab": {
          "base_uri": "https://localhost:8080/"
        },
        "id": "91-EcvNPcJzT",
        "outputId": "fe5eb5c5-0595-41fe-f060-c9c1b0bae951"
      },
      "outputs": [
        {
          "name": "stdout",
          "output_type": "stream",
          "text": [
            "Select operation 1.add 2.remove 3.show 4.quit\n",
            "1\n",
            "enter the element:10\n",
            "10 is added to queue\n",
            "Select operation 1.add 2.remove 3.show 4.quit\n",
            "1\n",
            "enter the element:20\n",
            "20 is added to queue\n",
            "Select operation 1.add 2.remove 3.show 4.quit\n",
            "1\n",
            "enter the element:30\n",
            "30 is added to queue\n",
            "Select operation 1.add 2.remove 3.show 4.quit\n",
            "2\n",
            "removed element: 10\n",
            "Select operation 1.add 2.remove 3.show 4.quit\n",
            "2\n",
            "removed element: 20\n",
            "Select operation 1.add 2.remove 3.show 4.quit\n",
            "2\n",
            "removed element: 30\n",
            "Select operation 1.add 2.remove 3.show 4.quit\n",
            "2\n",
            "queue is empty\n",
            "Select operation 1.add 2.remove 3.show 4.quit\n",
            "3\n",
            "[]\n",
            "Select operation 1.add 2.remove 3.show 4.quit\n",
            "4\n"
          ]
        }
      ],
      "source": [
        "queue=[]\n",
        "def enqueue():\n",
        "    element=input(\"enter the element:\")\n",
        "    queue.append(element)\n",
        "    print(element,\"is added to queue\")\n",
        "def dequeue():\n",
        "    if not queue:\n",
        "        print(\"queue is empty\")\n",
        "    else:\n",
        "        e=queue.pop(0)\n",
        "        print(\"removed element:\",e)\n",
        "def display():\n",
        "    print(queue)\n",
        "while True:\n",
        "    print(\"Select operation 1.add 2.remove 3.show 4.quit\")\n",
        "    choice=int(input())\n",
        "    if choice==1:\n",
        "        enqueue()\n",
        "    elif choice==2:\n",
        "        dequeue()\n",
        "    elif choice==3:\n",
        "        display()\n",
        "    elif choice==4:\n",
        "        break\n",
        "    else:\n",
        "        print(\"enter the correct operation!\")\n",
        ""
      ]
    },
    {
      "cell_type": "code",
      "source": [
        "stack=[]\n",
        "def push():\n",
        "    element=input(\"enter the element:\")\n",
        "    stack.append(element)\n",
        "    print(element,\"is added to stack\")\n",
        "def pop():\n",
        "    if not stack:\n",
        "        print(\"stack is empty\")\n",
        "    else:\n",
        "        e=stack.pop(0)\n",
        "        print(\"removed element:\",e)\n",
        "while True:\n",
        "    print(\"Select operation 1.push 2.pop 3.quit\")\n",
        "    choice=int(input())\n",
        "    if choice==1:\n",
        "        push()\n",
        "    elif choice==2:\n",
        "        pop()\n",
        "    elif choice==3:\n",
        "       break\n",
        "    else:\n",
        "        print(\"enter the correct operation!\")\n",
        ""
      ],
      "metadata": {
        "colab": {
          "base_uri": "https://localhost:8080/"
        },
        "id": "A2Vngk3LqKD4",
        "outputId": "26fa4402-b63b-4f3e-fd43-7bb9f3e2a35d"
      },
      "execution_count": 3,
      "outputs": [
        {
          "name": "stdout",
          "output_type": "stream",
          "text": [
            "Select operation 1.push 2.pop 3.quit\n",
            "1\n",
            "enter the element:50\n",
            "50 is added to stack\n",
            "Select operation 1.push 2.pop 3.quit\n",
            "1\n",
            "enter the element:60\n",
            "60 is added to stack\n",
            "Select operation 1.push 2.pop 3.quit\n",
            "1\n",
            "enter the element:70\n",
            "70 is added to stack\n",
            "Select operation 1.push 2.pop 3.quit\n",
            "2\n",
            "removed element: 50\n",
            "Select operation 1.push 2.pop 3.quit\n",
            "2\n",
            "removed element: 60\n",
            "Select operation 1.push 2.pop 3.quit\n",
            "2\n",
            "removed element: 70\n",
            "Select operation 1.push 2.pop 3.quit\n",
            "2\n",
            "stack is empty\n",
            "Select operation 1.push 2.pop 3.quit\n",
            "3\n"
          ]
        }
      ]
    },
    {
      "cell_type": "code",
      "source": [
        "s=\"svr\"\n",
        "s=list(s)\n",
        "def pop():\n",
        "    rs=\"\"\n",
        "    for i in range(len(s)):\n",
        "        p=s.pop()\n",
        "        rs+=p\n",
        "    print(rs)\n",
        "pop()"
      ],
      "metadata": {
        "colab": {
          "base_uri": "https://localhost:8080/"
        },
        "id": "dCp2shPTtG2J",
        "outputId": "f8d18430-a089-45ad-9853-c048052d7094"
      },
      "execution_count": 5,
      "outputs": [
        {
          "output_type": "stream",
          "name": "stdout",
          "text": [
            "rvs\n"
          ]
        }
      ]
    }
  ]
}