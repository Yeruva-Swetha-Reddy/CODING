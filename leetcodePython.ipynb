{
  "nbformat": 4,
  "nbformat_minor": 0,
  "metadata": {
    "colab": {
      "provenance": [],
      "authorship_tag": "ABX9TyOkiYI2gwSRzoczN0LCtKcl"
    },
    "kernelspec": {
      "name": "python3",
      "display_name": "Python 3"
    },
    "language_info": {
      "name": "python"
    }
  },
  "cells": [
    {
      "cell_type": "code",
      "execution_count": 3,
      "metadata": {
        "colab": {
          "base_uri": "https://localhost:8080/"
        },
        "id": "2PnRiCrIupQo",
        "outputId": "ced7047a-d817-48df-c17c-844548e883f1"
      },
      "outputs": [
        {
          "output_type": "stream",
          "name": "stdout",
          "text": [
            "[2, 3, 4, 1]\n"
          ]
        }
      ],
      "source": [
        "#Sort Even and Odd Indices Independently:\n",
        "def sortEvenOdd(nums):\n",
        "    l=[]\n",
        "    l1=[]\n",
        "    for i in range(len(nums)):\n",
        "        if i%2==0:\n",
        "            l.append(nums[i])\n",
        "        else:\n",
        "            l1.append(nums[i])\n",
        "    p1=sorted(l)\n",
        "    p2=sorted(l1)\n",
        "    p3=p2[::-1]\n",
        "    l2=min(len(p1),len(p3))\n",
        "    k=p1[l2:]\n",
        "    k1=p3[l2:]\n",
        "    c=[]\n",
        "    for i in range(0,l2):\n",
        "        c.append(p1[i])\n",
        "        c.append(p3[i])\n",
        "    print(c+k+k1)\n",
        "sortEvenOdd([4,1,2,3])"
      ]
    },
    {
      "cell_type": "code",
      "source": [
        "#Rotate Array:\n",
        "def rotate(nums,k):\n",
        "  for i in range(k):\n",
        "    u=nums.pop()\n",
        "    nums.insert(0,u)\n",
        "  print(nums)\n",
        "rotate([1,2,3,4,5,6,7], k = 3)"
      ],
      "metadata": {
        "colab": {
          "base_uri": "https://localhost:8080/"
        },
        "id": "ZaWZauKFu_qM",
        "outputId": "3c4ae704-e35e-4ef0-c8b7-93f10acd182c"
      },
      "execution_count": 7,
      "outputs": [
        {
          "output_type": "stream",
          "name": "stdout",
          "text": [
            "[5, 6, 7, 1, 2, 3, 4]\n"
          ]
        }
      ]
    },
    {
      "cell_type": "code",
      "source": [
        "#Check if All A's Appears Before All B's:\n",
        "def checkString(s) -> bool:\n",
        "  p=list(s)\n",
        "  q=sorted(s)\n",
        "  if p==q:\n",
        "    print(True)\n",
        "  else:\n",
        "    print(False)\n",
        "checkString(\"aaabbb\")"
      ],
      "metadata": {
        "colab": {
          "base_uri": "https://localhost:8080/"
        },
        "id": "WsToEWivv1nk",
        "outputId": "b51aa61a-6900-44c2-d7cd-ba0e69c4160d"
      },
      "execution_count": 11,
      "outputs": [
        {
          "output_type": "stream",
          "name": "stdout",
          "text": [
            "True\n"
          ]
        }
      ]
    },
    {
      "cell_type": "code",
      "source": [
        "#Height Checker:\n",
        "def heightChecker(heights):\n",
        "  c=0\n",
        "  v=sorted(heights)\n",
        "  for i in range(len(v)):\n",
        "    if heights[i]!=v[i]:\n",
        "      c+=1\n",
        "  print(c)\n",
        "heightChecker([1,1,4,2,1,3])"
      ],
      "metadata": {
        "colab": {
          "base_uri": "https://localhost:8080/"
        },
        "id": "hUmffQNJwoWq",
        "outputId": "fc647419-b933-45d5-ec04-4f1873b58c0d"
      },
      "execution_count": 15,
      "outputs": [
        {
          "output_type": "stream",
          "name": "stdout",
          "text": [
            "3\n"
          ]
        }
      ]
    }
  ]
}