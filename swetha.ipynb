{
  "nbformat": 4,
  "nbformat_minor": 0,
  "metadata": {
    "colab": {
      "provenance": [],
      "authorship_tag": "ABX9TyNk4nhOKxAOSbY2W1XCEkcg"
    },
    "kernelspec": {
      "name": "python3",
      "display_name": "Python 3"
    },
    "language_info": {
      "name": "python"
    }
  },
  "cells": [
    {
      "cell_type": "code",
      "execution_count": 1,
      "metadata": {
        "colab": {
          "base_uri": "https://localhost:8080/"
        },
        "id": "vePjD4ZjXBLc",
        "outputId": "26a24d51-3b0c-4bdb-bf97-127d3bf34d89"
      },
      "outputs": [
        {
          "output_type": "stream",
          "name": "stdout",
          "text": [
            "[3, 4, 5, 6, 7, 8]\n"
          ]
        }
      ],
      "source": [
        "nums=[3,4,56,78]\n",
        "s=\"\"\n",
        "for i in nums:\n",
        "  s+=str(i)\n",
        "res=[]\n",
        "for i in s:\n",
        "  res.append(int(i))\n",
        "print(res)"
      ]
    }
  ]
}