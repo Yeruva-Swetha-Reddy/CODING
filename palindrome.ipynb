{
  "nbformat": 4,
  "nbformat_minor": 0,
  "metadata": {
    "colab": {
      "provenance": [],
      "authorship_tag": "ABX9TyMH4kXjPE49ZPNINb4n3B/Q"
    },
    "kernelspec": {
      "name": "python3",
      "display_name": "Python 3"
    },
    "language_info": {
      "name": "python"
    }
  },
  "cells": [
    {
      "cell_type": "code",
      "execution_count": 11,
      "metadata": {
        "colab": {
          "base_uri": "https://localhost:8080/"
        },
        "id": "M2x84ZlXmycY",
        "outputId": "f4405d38-899b-4f89-ca6a-255fe302b148"
      },
      "outputs": [
        {
          "output_type": "stream",
          "name": "stdout",
          "text": [
            "True\n"
          ]
        }
      ],
      "source": [
        "#PALINDROME:\n",
        "x=252\n",
        "x=str(x)\n",
        "rev=x[::-1]\n",
        "if(x==rev):\n",
        "    print(\"True\")\n",
        "else:\n",
        "    print(\"False\")"
      ]
    }
  ]
}