{
  "nbformat": 4,
  "nbformat_minor": 0,
  "metadata": {
    "colab": {
      "provenance": [],
      "authorship_tag": "ABX9TyPCX5MrMGXWE5aEdYyuSU/1",
      "include_colab_link": true
    },
    "kernelspec": {
      "name": "python3",
      "display_name": "Python 3"
    },
    "language_info": {
      "name": "python"
    }
  },
  "cells": [
    {
      "cell_type": "markdown",
      "metadata": {
        "id": "view-in-github",
        "colab_type": "text"
      },
      "source": [
        "<a href=\"https://colab.research.google.com/github/Yeruva-Swetha-Reddy/CODING/blob/master/Roman%20to%20Integer.ipynb\" target=\"_parent\"><img src=\"https://colab.research.google.com/assets/colab-badge.svg\" alt=\"Open In Colab\"/></a>"
      ]
    },
    {
      "cell_type": "code",
      "execution_count": 11,
      "metadata": {
        "colab": {
          "base_uri": "https://localhost:8080/"
        },
        "id": "M2x84ZlXmycY",
        "outputId": "f4405d38-899b-4f89-ca6a-255fe302b148"
      },
      "outputs": [
        {
          "output_type": "stream",
          "name": "stdout",
          "text": [
            "True\n"
          ]
        }
      ],
      "source": [
        "#PALINDROME:\n",
        "x=252\n",
        "x=str(x)\n",
        "rev=x[::-1]\n",
        "if(x==rev):\n",
        "    print(\"True\")\n",
        "else:\n",
        "    print(\"False\")"
      ]
    },
    {
      "cell_type": "code",
      "source": [
        "#ROMAN TO INTEGER:\n",
        "d={'I': 1, 'V': 5, 'X': 10, 'L': 50,'C': 100, 'D': 500, 'M': 1000}\n",
        "s=\"LVIII\"\n",
        "r=0\n",
        "p=0\n",
        "for char in s[::-1]:\n",
        "  c=d[char]\n",
        "  if c<p:\n",
        "    r-=c\n",
        "  else:\n",
        "    r+=c\n",
        "    p=c\n",
        "print(r)\n",
        ""
      ],
      "metadata": {
        "colab": {
          "base_uri": "https://localhost:8080/"
        },
        "id": "iCJa0Ilx2KiB",
        "outputId": "a5521ae3-f066-42af-efa2-cc888d4b23d4"
      },
      "execution_count": 26,
      "outputs": [
        {
          "output_type": "stream",
          "name": "stdout",
          "text": [
            "58\n"
          ]
        }
      ]
    }
  ]
}