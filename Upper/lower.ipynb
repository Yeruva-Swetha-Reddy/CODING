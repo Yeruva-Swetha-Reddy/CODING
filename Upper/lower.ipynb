{
  "nbformat": 4,
  "nbformat_minor": 0,
  "metadata": {
    "colab": {
      "provenance": [],
      "authorship_tag": "ABX9TyNNTkxc6yL8J5EEVh0VRjFm"
    },
    "kernelspec": {
      "name": "python3",
      "display_name": "Python 3"
    },
    "language_info": {
      "name": "python"
    }
  },
  "cells": [
    {
      "cell_type": "code",
      "execution_count": 2,
      "metadata": {
        "colab": {
          "base_uri": "https://localhost:8080/"
        },
        "id": "2BIvLbi2rhm9",
        "outputId": "aaa0f49e-3355-4ee8-d949-f60f8875c701"
      },
      "outputs": [
        {
          "output_type": "stream",
          "name": "stdout",
          "text": [
            "S 119 E 116 H 97 \n"
          ]
        }
      ],
      "source": [
        "n = \"swetha\"\n",
        "s = \"\"\n",
        "for i in range(len(n)):\n",
        "    if i % 2 == 0:\n",
        "        s+=n[i].upper() +\" \"\n",
        "    else:\n",
        "        s+=str(ord(n[i])) + \" \"\n",
        "print(s)"
      ]
    },
    {
      "cell_type": "code",
      "source": [
        "n = \"swetha\"\n",
        "s = \"\"\n",
        "for i in range(len(n)):\n",
        "    if i % 2 == 0:\n",
        "        s+=n[i].lower() +\" \"\n",
        "    else:\n",
        "        s+=n[i].upper() +\" \"\n",
        "print(s)"
      ],
      "metadata": {
        "colab": {
          "base_uri": "https://localhost:8080/"
        },
        "id": "h8quamxir06i",
        "outputId": "71394b10-190f-4352-bdb6-8f30833e1839"
      },
      "execution_count": 3,
      "outputs": [
        {
          "output_type": "stream",
          "name": "stdout",
          "text": [
            "s W e T h A \n"
          ]
        }
      ]
    },
    {
      "cell_type": "code",
      "source": [
        "n=\"swetha\"\n",
        "l=n.upper()\n",
        "print(l)"
      ],
      "metadata": {
        "colab": {
          "base_uri": "https://localhost:8080/"
        },
        "id": "hvDzvMACsBlv",
        "outputId": "6e31c257-9f8c-41e5-c9d7-870c8ba5b5fa"
      },
      "execution_count": 4,
      "outputs": [
        {
          "output_type": "stream",
          "name": "stdout",
          "text": [
            "SWETHA\n"
          ]
        }
      ]
    }
  ]
}